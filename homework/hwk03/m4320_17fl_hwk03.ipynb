{
 "cells": [
  {
   "cell_type": "markdown",
   "metadata": {},
   "source": [
    "## Homework 03\n",
    "###  Math 4320 - Mathematical Modeling, Dr. Scott Cook, Tarleton State University, Fall 2017\n",
    "### Due: Midnight, Tuesday, Oct 10, 2017"
   ]
  },
  {
   "cell_type": "markdown",
   "metadata": {},
   "source": [
    "### Instructions\n",
    "- Submit as email attachement(s) by the deadline to scook@tarleton.edu\n",
    "- Name your file M4320_2017fl_yourlastname.ipynb\n",
    "- Problems marked \"computer\" are coding projects.  They must be done in a Jupyter Notebook and submitted as .ipynb file.\n",
    "- Problem marked \"concept\" are traditional math homework problems to be worked out by hand.  These must now be typed as markdown cells; no more submitting handwritten stuff. https://daringfireball.net/projects/markdown/basics).\n",
    "- Submit Jupyter Notebooks in .ipynb format.  Files -> Download as -> .ipynb\n",
    "- Submit handwritten work in .pdf format"
   ]
  },
  {
   "cell_type": "markdown",
   "metadata": {},
   "source": [
    "Read $\\S 5.5$ p.77-80 in Sayama.  He introduces the notion of \"simplifying\" models by trying to combine variables to get fewer free parameters.  He uses the the logistic equation as the main example.  So recall:\n",
    "$x_t = x_{t-1} + r x_{t-1} (1-\\frac{x_{t-1}}{K})$ where $r$ is the fertility (babies per adult) and $K$ is the carrying capacity of the system.\n",
    "\n",
    "Now, $r$ and $K$ make good intuitive sense, but there are 2 free parameters.  We would prefer to work with a system with only 1 free parameter.  We are willing to sacrifice the intuitiveness of the 2 parameter system for a simpler, less intuitive system with only 1 parameter.  We define\n",
    "$$r' = 1+r \\\\ \\alpha = \\frac{K(1+r)}{r} \\\\ x_t'=\\frac{x_t}{\\alpha}$$\n",
    "\n",
    "With these substitutions and some algreba (as shown in $\\S 5.5$), our system takes the form\n",
    "$$x_t = x_{t-1} + r x_{t-1} (1-\\frac{x_{t-1}}{K}) \\xrightarrow{\\phantom{...............}} x_t' = r'x_{t-1}'(1-x_{t-1}')$$\n",
    "\n",
    "This new form has only 1 free parameter $r'$ (HURRAY).  But $x'$ does not have the same meaning as before (BOO).  It's is more complicated.  To help out a little, we unpack a definition above\n",
    "\n",
    "$$x_t'=\\frac{x_t}{\\alpha} = \\frac{x_t}{\\frac{K(1+r)}{r}} = \\frac{r}{1+r}\\frac{x_t}{K}$$\n",
    "\n",
    "The last bit $\\frac{x_t}{K}$ is the fraction of carrying capacity currently being used.  As we saws in the last homework, that should not get much above 1 (else the system will crash from overuse).  Since $\\frac{r}{1+r} < 1$ automatically, we see that a natural scale for $x_t'$ is $[0,1]$"
   ]
  },
  {
   "cell_type": "markdown",
   "metadata": {},
   "source": [
    "1) (computer) Make a cobweb plot using this new form of the logistic equation using $x_0'=0.27$ for all values of $r'$ from 1.0 to 4.5 in steps of 0.25.  I suggest using np.arange(1.0, 4.5, 0.25).  Describe what you observe.\n",
    "\n",
    "Details:\n",
    "- set the x and y limits as [0.0, 1.1] to get a good consistent view.  ax.set_xlim([0.0, 1.1])\n",
    "- Remember to protect against negative values of $x'$."
   ]
  },
  {
   "cell_type": "markdown",
   "metadata": {},
   "source": [
    "2) (computer) Consider the \"growing bush\" example of a discrete time, finite state, linear dynamical system.  It had the following rules:\n",
    "- There are 2 types of branches - mature and young.\n",
    "- Each mature branch sprouts $r$ new, young branches.\n",
    "- Each young branch matures after 1 step.  It can not sprout until it has matured.\n",
    "\n",
    "We saw how to encode the rules of its growth into a matrix\n",
    "$$A=\\begin{bmatrix} 1 & 1 \\\\ r & 0 \\end{bmatrix} $$\n",
    "\n",
    "The current state of the system is described as a vector\n",
    "$$v_t = \\begin{bmatrix} \\# mature \\\\ \\# young \\end{bmatrix} $$\n",
    "To move advance the system, we multiply by $A$.  Thus $$v_t = Av_{t-1}$$\n",
    "\n",
    "Now, consider a different system.  A colony of bacteria growing according to the following rules:\n",
    "- There are 2 types of bacteria - adult and children.\n",
    "- Each adult has a probability $p$ of splitting into $r$ children.  When this happens, the adult \"dies\" in the sense that it turns into $r$ children.  An adult has a probabilty $1-p$ of not splitting and simply remaining as one adult.\n",
    "- Each child matures to an adult after 1 step.  It can not split until it has matured.\n",
    "- The colony starts with 0 adults and 1 child.\n",
    "\n",
    "Note that one major difference between this system and the growing bush is that an adult vanishes when it splits.  For the bush, an adult branch sprouted a young branch but was still in the bush."
   ]
  },
  {
   "cell_type": "markdown",
   "metadata": {},
   "source": [
    "2a) (concept) Write the correct matrix for this system.\n",
    "$$A=\\begin{bmatrix} ?? & ?? \\\\ ?? & ?? \\end{bmatrix} $$"
   ]
  },
  {
   "cell_type": "markdown",
   "metadata": {},
   "source": [
    "2b) Simulate for $p=0.0$ and $r=1$.  Describe what you observe and explain why it should happen given those specific values.  What other values for $r$ and/or $p$ would give the same behavior?  (This should be a \"test case\" for your code)."
   ]
  },
  {
   "cell_type": "markdown",
   "metadata": {},
   "source": [
    "2c) Simulate for $p=1.0$ and $r=2$.  Describe what you observe and explain why it should happen given those specific values."
   ]
  },
  {
   "cell_type": "markdown",
   "metadata": {},
   "source": [
    "2d) Simulate for $p=0.5$ and $r=3$.  Describe what you observe and explain why it should happen given those specific values.  Note that the above two systems should feel similiar because each adult bacteria should, on average, turn into 2 bacteria.  For 2c, this is 2 children.  For 2d, this is 1.5 children and 0.5 adults.  Please compare the two systems."
   ]
  },
  {
   "cell_type": "markdown",
   "metadata": {},
   "source": [
    "2e) (concept) Recall that eigenvalues control the future of the system.  Find the eigenvalues for this system by hand.  Show that, in the case $p=1$, the expression simplifies tremendously.\n",
    "\n",
    "You must type your work in a markdown cell - no more submitting handwritten stuff.  Use the latex examples in this homework set (and previous one) to help you."
   ]
  }
 ],
 "metadata": {
  "kernelspec": {
   "display_name": "Python 3",
   "language": "python",
   "name": "python3"
  },
  "language_info": {
   "codemirror_mode": {
    "name": "ipython",
    "version": 3
   },
   "file_extension": ".py",
   "mimetype": "text/x-python",
   "name": "python",
   "nbconvert_exporter": "python",
   "pygments_lexer": "ipython3",
   "version": "3.6.1"
  }
 },
 "nbformat": 4,
 "nbformat_minor": 1
}
