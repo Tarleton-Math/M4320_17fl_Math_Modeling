{
 "cells": [
  {
   "cell_type": "markdown",
   "metadata": {},
   "source": [
    "## Homework 02\n",
    "###  Math 4320 - Mathematical Modeling, Dr. Scott Cook, Tarleton State University, Fall 2017\n",
    "### Due: Midnight, Friday, Sept 22, 2017"
   ]
  },
  {
   "cell_type": "markdown",
   "metadata": {},
   "source": [
    "### Instructions\n",
    "- Submit as email attachement(s) by the deadline to scook@tarleton.edu\n",
    "- Problems marked \"computer\" are coding projects.  They must be done in a Jupyter Notebook and submitted as .ipynb file.\n",
    "- Problem marked \"concept\" are traditional math homework problems to be worked out by hand.  They can be written either in the Jupyter Notebook as \"markdown\" cells (preferred) or neatly handwritten and scanned as .pdf.  See https://daringfireball.net/projects/markdown/basics).\n",
    "- Submit Jupyter Notebooks in .ipynb format.  Files -> Download as -> .ipynb\n",
    "- Submit handwritten work in .pdf format"
   ]
  },
  {
   "cell_type": "markdown",
   "metadata": {},
   "source": [
    "1) (computer)\n",
    "For the last 2 weeks, we have been demonstrating how to build a good mathematical model.  It is an iterative process.\n",
    "- We started with something very simple $x_t=a x_{t-1}$.  It has major flaws and limitations.  For example, rabbit population explodes to $+\\infty$.\n",
    "- So tweaked it to fix that flaw by introducing the logistic correction $\\left(1-\\frac{x}{K}\\right)$.  It fixed the exploding rabbit count flaw, but we were still limited because we want to model a predator-prey system with 2 species.\n",
    "- So, we tweaked the model again and got the Lotka-Volterra model labeled (4.34) & (4.35) on p.58 in Sayama's book.\n",
    "- This week, we found a flaw with Lotka-Volterra.  When we coded and simulated it in class:\n",
    "  - it gave very natural results for $r=b=d=c=1$ and $K=5$\n",
    "  - However, when we changed $r=2.0$ (leaving all others the same), we saw the bizarre result that the fox population explodes to $+\\infty$ while the rabbit population stays stable around $2.5$ (for many reasonable initial $x$ and $y$).\n",
    "\n",
    "So, let's try to correct that flaw.  Let's use the same logistic correction on the foxes too.\n",
    "1. Introduce the term $\\left(1-\\frac{y}{K}\\right)$ in the appropriate location.  You will need to decide where that is.  (Follow the pattern used when we introduced $\\left(1-\\frac{x}{K}\\right)$ for rabbits.)\n",
    "2. Code and simulate for $b=d=c=1.0$, $r=2.0$, and $K=5$.  Produce a plot of the phase space.  We did this for Lotka-Volterra in class; it is the plot where\n",
    "\n",
    "    - rabbit pop is on the x-axis, fox pop is on the y-axis\n",
    "    - MANY different simulations are overlaid.  In other word, choose initial values for $x$ and $y$, run the simulation, plot the results.  Now repeat for another initial condition and overlay.  Repeat for many different initial conditions.  There is a code snippet below that may help.\n",
    "    \n",
    "3. Find at least 3 equilibrium populations by experimentation with the simulation.  More specifically, find initial conditions that stay the same as you run the simulation.  There are many ways to do this.  One way I do this is to run (a few) hundred steps, but only plot the last handful of them (let's use the the last 10 for this discussion.  This way, you don't see all the crazy early behavior; you only see the long term behavior.  To do so, edit the lines:\n",
    "\n",
    "  - x_result = np.array(x_result) $\\mapsto$ x_result = np.array(x_result[-10:])\n",
    "  - y_result = np.array(y_result) $\\mapsto$ y_result = np.array(y_result[-10:])\n"
   ]
  },
  {
   "cell_type": "code",
   "execution_count": null,
   "metadata": {
    "collapsed": true
   },
   "outputs": [],
   "source": [
    "for i in range(100):  # Test 100 randomly generated initial conditions\n",
    "    [x,y] = (np.random.rand(2)*3)+1 #Produces 2 random numbers between 1 and 4\n",
    "    #Explanation - np.random.rand(2) produce 2 random number between 0 and 1.\n",
    "    #Multiply by 3 then add to 1 to put them between 1 and 4.\n",
    "    run_trial(x,y)\n"
   ]
  },
  {
   "cell_type": "markdown",
   "metadata": {},
   "source": [
    "2) (computer)\n",
    "\n",
    "Now, do the same basic thing for the political switching model in Exercise 4.16, p.60 of Sayama.  Recall we looked at 2 versions.  First, let's consider the book's version, where liberals jump to become conservative and conservatives jump to become liberal (not all the way to the other extreme).  This model was:\n",
    "\n",
    "- $l_t = l_{t-1} + nl + cl - lc$\n",
    "- $c_t = c_{t-1} + nc + lc - cl$\n",
    "- $n_t = c_{t-1} - nl - nc$\n",
    "\n",
    "where\n",
    "\n",
    "- $nl = r\\frac{n_{t-1}}{l_{t-1}}$\n",
    "- $lc = r\\frac{l_{t-1}}{c_{t-1}}$\n",
    "- $nc = r\\frac{n_{t-1}}{c_{t-1}}$\n",
    "- $cl = r\\frac{c_{t-1}}{l_{t-1}}$\n",
    "\n",
    "remember at each step to check\n",
    "\n",
    "- $l$, $c$, and $n$ are all $\\geq 0$\n",
    "- $l+c+n=1$. We force this by letting $q=l+c+n$ and diving $l,c,n$ all by $q$\n",
    "\n",
    "Run this model for\n",
    "\n",
    "- $r=0.2$\n",
    "- $r=0.3$\n",
    "- $r=0.4$\n",
    "- $r=0.5$\n",
    "\n",
    "You should see very similar long term for all cases. For all case, either display the phase space or describe the long term behavior in words (or both).  Identify at least 4 equilibrium states."
   ]
  },
  {
   "cell_type": "code",
   "execution_count": null,
   "metadata": {
    "collapsed": true
   },
   "outputs": [],
   "source": [
    "for i in range(100):\n",
    "    [l,c] = np.random.rand(2)\n",
    "    run_trial(x,y)"
   ]
  },
  {
   "cell_type": "markdown",
   "metadata": {},
   "source": [
    "3) (computer) Now consider Foley's version of the political switching model where liberals and conservatives can only jump to neutral (not all the way to the other extreme).  This model was:\n",
    "\n",
    "- $l_t = l_{t-1} + nl - lc$\n",
    "- $c_t = c_{t-1} + nc - cl$\n",
    "- $n_t = c_{t-1} + lc + cl - nl - nc$\n",
    "\n",
    "Run this model for\n",
    "\n",
    "- $r=0.2$\n",
    "- $r=0.3$\n",
    "- $r=0.4$\n",
    "- $r=0.5$\n",
    "\n",
    "You should see that long term behavior changes significantly as $r$ varies.  For all case, either display the phase space or describe the long term behavior in words (or both).  There should be 3 equilibrium states common to all four case.  However, the fourth equilibrium changes dramtically.  Please describe clearly."
   ]
  }
 ],
 "metadata": {
  "kernelspec": {
   "display_name": "Python 3",
   "language": "python",
   "name": "python3"
  },
  "language_info": {
   "codemirror_mode": {
    "name": "ipython",
    "version": 3
   },
   "file_extension": ".py",
   "mimetype": "text/x-python",
   "name": "python",
   "nbconvert_exporter": "python",
   "pygments_lexer": "ipython3",
   "version": "3.6.1"
  }
 },
 "nbformat": 4,
 "nbformat_minor": 1
}
