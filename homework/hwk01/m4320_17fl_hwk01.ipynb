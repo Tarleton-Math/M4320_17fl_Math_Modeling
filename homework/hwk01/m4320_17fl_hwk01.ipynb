{
 "cells": [
  {
   "cell_type": "markdown",
   "metadata": {},
   "source": [
    "## Homework 01\n",
    "###  Math 4320 - Mathematical Modeling, Dr. Scott Cook, Tarleton State University, Fall 2017\n",
    "### Due: Midnight, Tuesday, Sept 12, 2017"
   ]
  },
  {
   "cell_type": "markdown",
   "metadata": {},
   "source": [
    "### Instructions\n",
    "- Submit as email attachement(s) by the deadline to scook@tarleton.edu\n",
    "- Problems marked \"computer\" are coding projects.  They must be done in a Jupyter Notebook and submitted as .ipynb file.\n",
    "- Problem marked \"concept\" are traditional math homework problems to be worked out by hand.  They can be written either in the Jupyter Notebook as \"markdown\" cells (preferred) or neatly handwritten and scanned as .pdf.  See https://daringfireball.net/projects/markdown/basics).\n",
    "- Submit Jupyter Notebooks in .ipynb format.  Files -> Download as -> .ipynb\n",
    "- Submit handwritten work in .pdf format"
   ]
  },
  {
   "cell_type": "markdown",
   "metadata": {},
   "source": [
    "1) (concept) For each of the following, please\n",
    "\n",
    "    i. determine\n",
    "        - (L) linear or (NL) non-linear\n",
    "        - Order\n",
    "        - (A) Autonomous or (NA) non-autonomous\n",
    "        - Answers of the form: L, 3, NA.\n",
    "        \n",
    "    ii. convert to a first-order, autonomous system if it is not already.  (Don't worry about linear/non-linear.)\n",
    "    \n",
    "A) $x_t = 2x_{t-1} + 15x_{t-2}$\n",
    "    \n",
    "B) $x_t = 10x_{t-1} - 5x_{t-2} + 17x_{t-3}$\n",
    "    \n",
    "C) $x_t = t^2 x_{t-1} + 2x_{t-2}$\n",
    "    \n",
    "D) $x_t = x_{t-1}x_{t-2} + 2x_{t-3} + e^t$"
   ]
  },
  {
   "cell_type": "markdown",
   "metadata": {},
   "source": [
    "2) (computer) Simulate the system below for 100 steps following the model from lecture.  \n",
    "$x_t = 0.9x_{t-1}+0.8y_{t-1} \\\\ y_t = -0.7x_{t-1}+0.6_{t-1}$\n",
    "\n",
    "Produce 2 plots\n",
    "\n",
    "- $t$ on the horizontal axis and $x_t$ and $y_t$ overlaid on the vertical axis\n",
    "- $x_t$ on the horizontal axis and $y_t$ on the vertical axis.\n",
    "\n",
    "Briefly describe and interpret what you see.  Write this in a Markdown type cell directly below the plot."
   ]
  },
  {
   "cell_type": "markdown",
   "metadata": {},
   "source": [
    "3) (computer) Read section 4.5 in Sayama's book\n",
    "\n",
    "https://textbooks.opensuny.org/introduction-to-the-modeling-and-analysis-of-complex-systems/\n",
    "\n",
    "Do exercise 4.9 on p.54 with the given values. Submit the plot of $x$ vs $t$ as we did in class and briefly describe and interpret what you see.  Do each part in its own code cell and write the discussion in a \"Markdown\" type cell directly below the plot it describes.  You will copy-paste the same code each time, changing just the necessary parameters.\n",
    "\n",
    "In your for-loop, include the following lines to prevent negative values of $x$.  Reason - this is a common model for population growth so there can't be a a negative number of individuals.\n",
    "\n",
    "    if x < 0:\n",
    "        x = 0\n",
    "\n",
    "$K=3.0$ for all parts.\n",
    "\n",
    "A) $a = 1.0, x_0 = 2.0$\n",
    "\n",
    "B) $a = 1.1, x_0 = 2.0$\n",
    "\n",
    "C) $a = 3.0, x_0 = 2.0$\n",
    "\n",
    "D) $a = 4.0, x_0 = 2.0$\n",
    "\n",
    "E) $a = 1.9, x_0 = 5.0$"
   ]
  }
 ],
 "metadata": {
  "kernelspec": {
   "display_name": "Python 3",
   "language": "python",
   "name": "python3"
  },
  "language_info": {
   "codemirror_mode": {
    "name": "ipython",
    "version": 3
   },
   "file_extension": ".py",
   "mimetype": "text/x-python",
   "name": "python",
   "nbconvert_exporter": "python",
   "pygments_lexer": "ipython3",
   "version": "3.6.1"
  }
 },
 "nbformat": 4,
 "nbformat_minor": 2
}
