{
 "cells": [
  {
   "cell_type": "markdown",
   "metadata": {},
   "source": [
    "## Homework 04\n",
    "###  Math 4320 - Mathematical Modeling, Dr. Scott Cook, Tarleton State University, Fall 2017\n",
    "### Due: Midnight, Friday, Oct 20, 2017"
   ]
  },
  {
   "cell_type": "markdown",
   "metadata": {},
   "source": [
    "### Instructions\n",
    "- You may either type or neatly handwrite this particular hoemwork set.\n",
    "- Though due after the midterm exam, you should be prepared to work this style problem on the midterm."
   ]
  },
  {
   "cell_type": "markdown",
   "metadata": {},
   "source": [
    "For the Lotka-Volterra population model\n",
    "$$\n",
    "x_t = x_{t-1} + r x_{t-1} \\left( 1 - \\frac{x_{t-1}}{K} \\right) - \\left( 1-\\frac{1}{b y_{t-1}+1} \\right)x_{t-1}\\\\\n",
    "y_t = y_{t-1} - d y_{t-1} + c x_{t-1} y_{t-1}\n",
    "$$\n",
    "\n",
    "\n",
    "please identify all equilibrium points and analyze their stability using linear stability analyis.  Classify each as \"attractor\" (attracts in all directions)\", \"semi-repelling\" (attracts in some directions but repels in others, or \"repeller\" (repells in all directions).\n",
    "1. Find all equilibrium points\n",
    "2. Compute the Jacobian matrix\n",
    "3. For each equilibrium point:\n",
    "    - Plug into Jacobian matrix    \n",
    "    - Compute eigenvalues\n",
    "    - Eigenvalues $|\\lambda|>1$ indicate repulsion along the corresponding\n",
    "    eigenvector.  Eigenvalues $|\\lambda|<1$ indicate attraction along the corresponding eigenvector.\n",
    "    \n",
    "Be alert that the number and stability of equilibrium points may vary depending on the parameters $r, K, b, c, d$."
   ]
  }
 ],
 "metadata": {
  "kernelspec": {
   "display_name": "Python 3",
   "language": "python",
   "name": "python3"
  },
  "language_info": {
   "codemirror_mode": {
    "name": "ipython",
    "version": 3
   },
   "file_extension": ".py",
   "mimetype": "text/x-python",
   "name": "python",
   "nbconvert_exporter": "python",
   "pygments_lexer": "ipython3",
   "version": "3.6.1"
  }
 },
 "nbformat": 4,
 "nbformat_minor": 1
}
